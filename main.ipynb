{
 "cells": [
  {
   "cell_type": "code",
   "execution_count": 20,
   "id": "thick-fundamental",
   "metadata": {},
   "outputs": [],
   "source": [
    "def print_board(board):\n",
    "    print(\"  1 2 3 4 5 6 7 8\")\n",
    "    for i in range(8):\n",
    "        row = str(i + 1) + \" \"\n",
    "        for j in range(8):\n",
    "            row += board[i][j] + \" \"\n",
    "        print(row)\n",
    "\n",
    "def get_move(player):\n",
    "    valid_move = False\n",
    "    while not valid_move:\n",
    "        move = input(\"Player \" + player + \", enter your move (row,column): \")\n",
    "        if len(move) == 3 and move[1] == ',' and move[0].isdigit() and move[2].isdigit():\n",
    "            row = int(move[0]) - 1\n",
    "            col = int(move[2]) - 1\n",
    "            if row >= 0 and row < 8 and col >= 0 and col < 8:\n",
    "                valid_move = True\n",
    "                return row, col\n",
    "            else:\n",
    "                print(\"Invalid move. Row and column must be between 1 and 8.\")\n",
    "        else:\n",
    "            print(\"Invalid move. Enter row,column (ex. 3,4).\")\n",
    "\n",
    "\n",
    "\n",
    "\n",
    "def make_move(board, player, row, col):\n",
    "    board[row][col] = player\n",
    "    for i in range(-1, 2):\n",
    "        for j in range(-1, 2):\n",
    "            if i == 0 and j == 0:\n",
    "                continue\n",
    "            r = row + i\n",
    "            c = col + j\n",
    "            while r >= 0 and r < 8 and c >= 0 and c < 8 and board[r][c] != player and board[r][c] != \".\":\n",
    "                r += i\n",
    "                c += j\n",
    "            if r >= 0 and r < 8 and c >= 0 and c < 8 and board[r][c] == player:\n",
    "                r -= i\n",
    "                c -= j\n",
    "                while r != row or c != col:\n",
    "                    board[r][c] = player\n",
    "                    r -= i\n",
    "                    c -= j\n",
    "\n",
    "\n",
    "def get_winner(board):\n",
    "    black_count = 0\n",
    "    white_count = 0\n",
    "    for i in range(8):\n",
    "        for j in range(8):\n",
    "            if board[i][j] == \"B\":\n",
    "                black_count += 1\n",
    "            elif board[i][j] == \"W\":\n",
    "                white_count += 1\n",
    "    if black_count > white_count:\n",
    "        return \"B\"\n",
    "    elif white_count > black_count:\n",
    "        return \"W\"\n",
    "    else:\n",
    "        return \"NONE\"\n",
    "\n",
    "def play_game():\n",
    "    board = [[\".\", \".\", \".\", \".\", \".\", \".\", \".\", \".\"] for i in range(8)]\n",
    "    board[3][3] = \"W\"\n",
    "    board[4][4] = \"W\"\n",
    "    board[3][4] = \"B\"\n",
    "    board[4][3] = \"B\"\n",
    "    current_player = \"B\"\n",
    "    winner = \"NONE\"\n",
    "    while winner == \"NONE\":\n",
    "        print_board(board)\n",
    "        row, col = get_move(current_player)\n",
    "        make_move(board, current_player, row, col)\n",
    "        if current_player == \"B\":\n",
    "                current_player = \"W\"\n",
    "        else:\n",
    "            current_player = \"B\"\n",
    "    winner = get_winner(board)\n",
    "    print_board(board)\n",
    "    if winner == \"B\":\n",
    "        print(\"Black wins!\")\n",
    "    elif winner == \"W\":\n",
    "        print(\"White wins!\")\n",
    "    else:\n",
    "        print(\"Tie game.\")"
   ]
  },
  {
   "cell_type": "code",
   "execution_count": null,
   "id": "emotional-satin",
   "metadata": {},
   "outputs": [
    {
     "name": "stdout",
     "output_type": "stream",
     "text": [
      "  1 2 3 4 5 6 7 8\n",
      "1 . . . . . . . . \n",
      "2 . . . . . . . . \n",
      "3 . . . . . . . . \n",
      "4 . . . W B . . . \n",
      "5 . . . B W . . . \n",
      "6 . . . . . . . . \n",
      "7 . . . . . . . . \n",
      "8 . . . . . . . . \n"
     ]
    },
    {
     "name": "stdin",
     "output_type": "stream",
     "text": [
      "Player B, enter your move (row,column):  3,4\n"
     ]
    },
    {
     "name": "stdout",
     "output_type": "stream",
     "text": [
      "  1 2 3 4 5 6 7 8\n",
      "1 . . . . . . . . \n",
      "2 . . . . . . . . \n",
      "3 . . . B . . . . \n",
      "4 . . . B B . . . \n",
      "5 . . . B W . . . \n",
      "6 . . . . . . . . \n",
      "7 . . . . . . . . \n",
      "8 . . . . . . . . \n"
     ]
    },
    {
     "name": "stdin",
     "output_type": "stream",
     "text": [
      "Player W, enter your move (row,column):  5,3\n"
     ]
    },
    {
     "name": "stdout",
     "output_type": "stream",
     "text": [
      "  1 2 3 4 5 6 7 8\n",
      "1 . . . . . . . . \n",
      "2 . . . . . . . . \n",
      "3 . . . B . . . . \n",
      "4 . . . B B . . . \n",
      "5 . . W W W . . . \n",
      "6 . . . . . . . . \n",
      "7 . . . . . . . . \n",
      "8 . . . . . . . . \n"
     ]
    }
   ],
   "source": [
    "if __name__ == '__main__':\n",
    "    play_game()"
   ]
  },
  {
   "cell_type": "code",
   "execution_count": null,
   "id": "powerful-absence",
   "metadata": {},
   "outputs": [],
   "source": []
  }
 ],
 "metadata": {
  "kernelspec": {
   "display_name": "video",
   "language": "python",
   "name": "video"
  },
  "language_info": {
   "codemirror_mode": {
    "name": "ipython",
    "version": 3
   },
   "file_extension": ".py",
   "mimetype": "text/x-python",
   "name": "python",
   "nbconvert_exporter": "python",
   "pygments_lexer": "ipython3",
   "version": "3.7.9"
  }
 },
 "nbformat": 4,
 "nbformat_minor": 5
}
